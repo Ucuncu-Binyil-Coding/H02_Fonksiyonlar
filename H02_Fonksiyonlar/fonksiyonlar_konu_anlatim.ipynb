{
 "cells": [
  {
   "cell_type": "markdown",
   "metadata": {},
   "source": [
    "### Fonksiyonlar Tanım\n",
    "\n",
    "Kodlarımı tekrar organize etmek için fonksiyonlarımı oluturuyoruz. Özel işlemlerimizi fonksionlar oluşturarak yapıyoruz. Birbirini tekrarlayan işleri sürekli tekrar tekrar yazmak yerine fonksiyon içerisinde oluşturup o fonksiyonu işimize yaradığı zaman çağırarak aynı işi tekrar tekrar yaptırabiliriz."
   ]
  },
  {
   "cell_type": "markdown",
   "metadata": {},
   "source": [
    "### Fonksiyonla Girişte Anahtar Kelimeler:\n",
    "\n",
    "- def --> Fonksiyonu yazmaya başlarken kullanılır.\n",
    "- def --> Definition'ın kısaltmasıdır. Tanımlama anlamına gelir.\n",
    "\n",
    "- parametre --> Fonksiyonu çağırdığın zaman belirsiz değişkenin yerine gelecek sayıyı temsil eden yapıdır.\n",
    "\n",
    "- return --> Fonksiyonun sonuna ulaşıldığına hangi sabit değeri sonuç olarak tutması gerekiyor. Bunu belirleyen bir yapıdır."
   ]
  },
  {
   "cell_type": "code",
   "execution_count": 4,
   "metadata": {},
   "outputs": [],
   "source": [
    "# Herhangi bir sayıya 3 ekleyen bir fonksiyon yazalım\n",
    "\n",
    "def uc_ekle(herhangi_bir_sayi:int): # Fonksiyon HEAD yani başlık kısmını bitirdik\n",
    "    \"\"\"\n",
    "    Hint:\n",
    "    Bu fonksiyon herhangi bir sayıya 3 ekleme işi yapar.\n",
    "\n",
    "    Parametre:\n",
    "        harhangi_bir_sayi -> 3 eklenecek sayıyı temsil eder.\n",
    "\n",
    "    Return:\n",
    "        Bu fonksiyon herhangi_bir_sayi'ya 3 eklenemiş değeri return eder.\n",
    "    \"\"\"\n",
    "    sonuc =  herhangi_bir_sayi + 3\n",
    "    return sonuc # sonuc değişkeni dışarıdan erişilebilir bir hale getirmiş oldum"
   ]
  },
  {
   "cell_type": "code",
   "execution_count": 2,
   "metadata": {},
   "outputs": [
    {
     "data": {
      "text/plain": [
       "function"
      ]
     },
     "execution_count": 2,
     "metadata": {},
     "output_type": "execute_result"
    }
   ],
   "source": [
    "type(uc_ekle) # function tipiden fonksiyon tanınlanmış olduğunu görüntüledik"
   ]
  },
  {
   "cell_type": "markdown",
   "metadata": {},
   "source": [
    "### Fonksiyonu çağırmak\n",
    "\n",
    " Fonksiyonu çağırırken, ilk olarak fonksiyonu tanımladığımız zaman, fonksiyon ismine ne verdiysek onun ile çağırma yapıyoruz. Daha sonra parantez açıp parantezin içerisine fonksiyonu tanımlarken parametre olarak ne verdiysek o parametreye karşılık gelecek bir değer giriyoruz. Bu değerede pythonda **Argüman** (Argument) denir. Bazı yerlerde Args olarak görebilirsiniz. "
   ]
  },
  {
   "cell_type": "code",
   "execution_count": 5,
   "metadata": {},
   "outputs": [
    {
     "name": "stdout",
     "output_type": "stream",
     "text": [
      "11\n"
     ]
    }
   ],
   "source": [
    "toplama1 = uc_ekle(herhangi_bir_sayi=8) # Buradaki 8 herhangi_bir_sayı parametresinin yerine geçen bir argümandır.\n",
    "print(toplama1)\n",
    "\n",
    "toplama2= uc_ekle(herhangi_bir_sayi=20)\n",
    "print(toplama2)"
   ]
  },
  {
   "cell_type": "markdown",
   "metadata": {},
   "source": [
    "### Neden Return kullandık?"
   ]
  },
  {
   "cell_type": "code",
   "execution_count": 11,
   "metadata": {},
   "outputs": [],
   "source": [
    "# Herhangi bir sayıya 3 ekleyen bir fonksiyon yazalım\n",
    "\n",
    "def uc_ekle_returnsuz(herhangi_bir_sayi:int) -> int: # Fonksiyon HEAD yani başlık kısmını bitirdik\n",
    "    \"\"\"\n",
    "    Hint:\n",
    "    Bu fonksiyon herhangi bir sayıya 3 ekleme işi yapar.\n",
    "\n",
    "    Parametre:\n",
    "        harhangi_bir_sayi -> 3 eklenecek sayıyı temsil eder.\n",
    "\n",
    "    Return:\n",
    "        Bu fonksiyon herhangi_bir_sayi'ya 3 eklenemiş değeri return eder.\n",
    "    \"\"\"\n",
    "    sonuc =  herhangi_bir_sayi + 3\n",
    "    print(sonuc) # sonuc değişkeni dışarıdan erişilebilir bir hale getirmiş oldum"
   ]
  },
  {
   "cell_type": "code",
   "execution_count": 13,
   "metadata": {},
   "outputs": [
    {
     "name": "stdout",
     "output_type": "stream",
     "text": [
      "11.1\n",
      "None\n",
      "23\n",
      "None\n"
     ]
    }
   ],
   "source": [
    "toplama1 = uc_ekle_returnsuz(herhangi_bir_sayi=8.1) # Buradaki 8 herhangi_bir_sayı parametresinin yerine geçen bir argümandır.\n",
    "print(toplama1)\n",
    "\n",
    "toplama2= uc_ekle_returnsuz(herhangi_bir_sayi=20)\n",
    "print(toplama2)"
   ]
  },
  {
   "cell_type": "markdown",
   "metadata": {},
   "source": [
    "### Toplamadan çıkan sonucu çıkarma fonksiyonunda başka bir sayı ile çıkarma yapalım."
   ]
  },
  {
   "cell_type": "code",
   "execution_count": 14,
   "metadata": {},
   "outputs": [
    {
     "name": "stdout",
     "output_type": "stream",
     "text": [
      "8\n",
      "None\n"
     ]
    }
   ],
   "source": [
    "# Returnsuz fonksiyon\n",
    "def topla(sayi1:int, sayi2:int):\n",
    "    sonuc = sayi1 + sayi2\n",
    "    print(sonuc)\n",
    "\n",
    "def cikar(sayi1:int, sayi2:int):\n",
    "    sonuc = sayi1 -sayi2\n",
    "    print(sonuc)\n",
    "\n",
    "# toplama3 = topla(3,5)\n",
    "# print(toplama3)"
   ]
  },
  {
   "cell_type": "code",
   "execution_count": 15,
   "metadata": {},
   "outputs": [
    {
     "ename": "NameError",
     "evalue": "name 'topla' is not defined",
     "output_type": "error",
     "traceback": [
      "\u001b[0;31m---------------------------------------------------------------------------\u001b[0m",
      "\u001b[0;31mNameError\u001b[0m                                 Traceback (most recent call last)",
      "Cell \u001b[0;32mIn[15], line 1\u001b[0m\n\u001b[0;32m----> 1\u001b[0m toplama4 \u001b[38;5;241m=\u001b[39m \u001b[43mtopla\u001b[49m(\u001b[38;5;241m3\u001b[39m,\u001b[38;5;241m6\u001b[39m)\n\u001b[1;32m      2\u001b[0m cikarma1 \u001b[38;5;241m=\u001b[39m cikar(toplama4,\u001b[38;5;241m5\u001b[39m)\n\u001b[1;32m      3\u001b[0m \u001b[38;5;28mprint\u001b[39m(cikarma1)\n",
      "\u001b[0;31mNameError\u001b[0m: name 'topla' is not defined"
     ]
    }
   ],
   "source": [
    "toplama4 = topla(3,6)\n",
    "cikarma1 = cikar(toplama4,5)\n",
    "print(cikarma1)\n",
    "# Fonksiyonlar returnlemeden print ettiği için fonksiyon sonucu None return ediyor."
   ]
  },
  {
   "cell_type": "code",
   "execution_count": 17,
   "metadata": {},
   "outputs": [],
   "source": [
    "# Returnlu fonksiyon\n",
    "def topla(sayi1:int, sayi2:int):\n",
    "    sonuc = sayi1 + sayi2\n",
    "    return sonuc\n",
    "\n",
    "def cikar(sayi1:int, sayi2:int):\n",
    "    sonuc = sayi1 -sayi2\n",
    "    return sonuc"
   ]
  },
  {
   "cell_type": "code",
   "execution_count": 18,
   "metadata": {},
   "outputs": [
    {
     "name": "stdout",
     "output_type": "stream",
     "text": [
      "4\n"
     ]
    }
   ],
   "source": [
    "toplama4 = topla(3,6)\n",
    "cikarma1 = cikar(toplama4,5)\n",
    "print(cikarma1)"
   ]
  },
  {
   "cell_type": "markdown",
   "metadata": {},
   "source": [
    "### Bilgilendirme amaçlı fonksiyonlar"
   ]
  },
  {
   "cell_type": "code",
   "execution_count": 19,
   "metadata": {},
   "outputs": [
    {
     "name": "stdout",
     "output_type": "stream",
     "text": [
      "\n",
      "        Çalışan ismi: Mahmut\n",
      "        Çalışan soyisim: Tuncer\n",
      "        Çalışan maas: 30000.0\n",
      "        Çalışan unvan: Artist\n",
      "\n"
     ]
    }
   ],
   "source": [
    "def calisan_bilgileri_gosterme(isim:str,soyisim:str,maas:float,unvan:str):\n",
    "    print(f\"\"\"\n",
    "        Çalışan ismi: {isim}\n",
    "        Çalışan soyisim: {soyisim}\n",
    "        Çalışan maas: {maas}\n",
    "        Çalışan unvan: {unvan}\n",
    "\"\"\")\n",
    "\n",
    "calisan_bilgileri_gosterme(\"Mahmut\",\"Tuncer\",30000.0,\"Artist\")"
   ]
  },
  {
   "cell_type": "code",
   "execution_count": 10,
   "metadata": {},
   "outputs": [
    {
     "name": "stdout",
     "output_type": "stream",
     "text": [
      "Çalışan'ın haftalık maaşı: $270.0.\n"
     ]
    }
   ],
   "source": [
    "# Diyelim ki şirketteki çalışanların maaşının vergisi çıkarıldıktan sonraki halini hesaplamak istiyorum.\n",
    "\n",
    "# Haftalık maaştan 10% vergi kesiliyor.\n",
    "# Bu arkadaşımız saatte 15 dolar kazandığını düşünelim\n",
    "# Haftalık maaşını hesaplayalım.\n",
    "\n",
    "# Normal\n",
    "def maas_hesaplama(haftalik_calisma_saati:int):\n",
    "    ucret:float = 15.0\n",
    "    vergi:int = 10\n",
    "\n",
    "    brut_maas = haftalik_calisma_saati * ucret\n",
    "    net_maas = (brut_maas * (100-vergi)) / 100\n",
    "    return net_maas\n",
    "\n",
    "# Esnek\n",
    "def maas_hesaplama(haftalik_calisma_saati:int,ucret:float=15.0,vergi:float=0.10):\n",
    "    brut_maas = ucret * haftalik_calisma_saati\n",
    "    if vergi > 1:\n",
    "        net_maas = (brut_maas * (100-vergi)) / 100\n",
    "    else:\n",
    "        net_maas = brut_maas - (brut_maas * vergi)\n",
    "    return net_maas\n",
    "\n",
    "\n",
    "haftalik_calisma_saati = 20\n",
    "calisan_net_maas = maas_hesaplama(haftalik_calisma_saati=haftalik_calisma_saati)\n",
    "print(f\"Çalışan'ın haftalık maaşı: ${calisan_net_maas}.\")"
   ]
  }
 ],
 "metadata": {
  "kernelspec": {
   "display_name": "Python 3",
   "language": "python",
   "name": "python3"
  },
  "language_info": {
   "codemirror_mode": {
    "name": "ipython",
    "version": 3
   },
   "file_extension": ".py",
   "mimetype": "text/x-python",
   "name": "python",
   "nbconvert_exporter": "python",
   "pygments_lexer": "ipython3",
   "version": "3.12.1"
  }
 },
 "nbformat": 4,
 "nbformat_minor": 2
}
