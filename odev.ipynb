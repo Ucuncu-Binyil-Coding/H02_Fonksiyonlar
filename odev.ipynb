{
 "cells": [
  {
   "cell_type": "code",
   "execution_count": null,
   "id": "320beb68",
   "metadata": {
    "language": "python"
   },
   "outputs": [],
   "source": [
    "def get_order_cost(meals, drinks):\n",
    "    return 50 + meals * 20 + drinks * 5\n",
    "print(get_order_cost(2, 0))\n",
    "print(get_order_cost(3, 2))\n",
    "print(get_order_cost(4, 1))"
   ]
  },
  {
   "cell_type": "code",
   "execution_count": null,
   "id": "1984da51",
   "metadata": {
    "creation_timestamp": 1738685558929,
    "language": "python",
    "last_modified": 1738685558929
   },
   "outputs": [],
   "source": [
    "def get_order_cost(meals: int, drinks: int) -> int:\n",
    "    \"\"\"\n",
    "    Calculates the total cost of an order based on meals and drinks.\n",
    "    \n",
    "    Args:\n",
    "        meals (int): The number of meals ordered.\n",
    "        drinks (int): The number of drinks ordered.\n",
    "        \n",
    "    Returns:\n",
    "        int: The total cost of the order.\n",
    "    \"\"\"\n",
    "    # Calculate the base cost\n",
    "    base_cost = 50\n",
    "    \n",
    "    # Calculate the meal cost by multiplying the number of meals with a fixed price\n",
    "    meal_cost = meals * 20\n",
    "    \n",
    "    # Calculate the drink cost by multiplying the number of drinks with a fixed price\n",
    "    drink_cost = drinks * 5\n",
    "    \n",
    "    # Return the total cost, which is the sum of base cost, meal cost and drink cost\n",
    "    return base_cost + meal_cost + drink_cost\n",
    "\n",
    "print(get_order_cost(2, 0))\n",
    "print(get_order_cost(3, 2))\n",
    "print(get_order_cost(4, 1))\n"
   ]
  },
  {
   "cell_type": "code",
   "execution_count": null,
   "id": "421fe311",
   "metadata": {
    "language": "python"
   },
   "outputs": [],
   "source": [
    "def get_rental_cost(days, kilometers):\n",
    "    return 100 + days * 200 + kilometers * 1\n",
    "print(get_rental_cost(3, 150))\n",
    "print(get_rental_cost(5, 300))"
   ]
  },
  {
   "cell_type": "code",
   "execution_count": null,
   "id": "191a2607",
   "metadata": {
    "creation_timestamp": 1738685558929,
    "language": "python",
    "last_modified": 1738685558929
   },
   "outputs": [],
   "source": [
    "def get_rental_cost(days: int, kilometers: int) -> int:\n",
    "    \"\"\"\n",
    "    Calculates the total rental cost based on the number of days and kilometers driven.\n",
    "\n",
    "    Args:\n",
    "        days (int): The number of days the car was rented.\n",
    "        kilometers (int): The total distance driven in kilometers.\n",
    "\n",
    "    Returns:\n",
    "        int: The total rental cost.\n",
    "    \"\"\"\n",
    "    # The base rental cost is $100\n",
    "    base_cost = 100\n",
    "    \n",
    "    # For every day, there's an additional cost of $200\n",
    "    daily_cost = days * 200\n",
    "    \n",
    "    # For every kilometer driven, there's an additional cost of $1\n",
    "    kilometer_cost = kilometers * 1\n",
    "    \n",
    "    # The total rental cost is the sum of the base cost, daily cost, and kilometer cost\n",
    "    total_cost = base_cost + daily_cost + kilometer_cost\n",
    "    \n",
    "    return total_cost\n",
    "\n",
    "print(get_rental_cost(3, 150))\n",
    "print(get_rental_cost(5, 300))\n"
   ]
  },
  {
   "cell_type": "code",
   "execution_count": null,
   "id": "10519680",
   "metadata": {
    "language": "python"
   },
   "outputs": [],
   "source": [
    "def get_ticket_cost(tickets, students):\n",
    "    return tickets * 50 - students * 10\n",
    "print(get_ticket_cost(1, 1))\n",
    "print(get_ticket_cost(3, 1))\n",
    "print(get_ticket_cost(5, 3))"
   ]
  },
  {
   "cell_type": "code",
   "execution_count": null,
   "id": "efc905a2",
   "metadata": {
    "creation_timestamp": 1738685558929,
    "language": "python",
    "last_modified": 1738685558929
   },
   "outputs": [],
   "source": [
    "def get_ticket_cost(tickets: int, students: int) -> float:\n",
    "    \"\"\"\n",
    "    Calculates the total cost of tickets after applying discounts for students.\n",
    "\n",
    "    Args:\n",
    "        tickets (int): The number of regular tickets.\n",
    "        students (int): The number of student tickets.\n",
    "\n",
    "    Returns:\n",
    "        float: The total cost of tickets after applying discounts.\n",
    "    \"\"\"\n",
    "    # Calculate the cost of regular tickets\n",
    "    regular_ticket_cost = tickets * 50\n",
    "    \n",
    "    # Calculate the discount for student tickets\n",
    "    student_discount = students * 10\n",
    "    \n",
    "    # Subtract the student discount from the regular ticket cost\n",
    "    total_cost = regular_ticket_cost - student_discount\n",
    "    \n",
    "    return total_cost\n",
    "\n",
    "print(get_ticket_cost(1, 1))\n",
    "print(get_ticket_cost(3, 1))\n",
    "print(get_ticket_cost(5, 3))\n"
   ]
  },
  {
   "cell_type": "code",
   "execution_count": null,
   "id": "050eb643",
   "metadata": {
    "language": "python"
   },
   "outputs": [],
   "source": [
    "def calculate_trip_cost(flights, nights, guide_days):\n",
    "    return 500 + flights * 1000 + nights * 300 + guide_days * 200\n",
    "print(calculate_trip_cost(2, 5, 3))\n",
    "print(calculate_trip_cost(3, 4, 1))"
   ]
  },
  {
   "cell_type": "code",
   "execution_count": null,
   "id": "d42c17a4",
   "metadata": {
    "creation_timestamp": 1738685558929,
    "language": "python",
    "last_modified": 1738685558929
   },
   "outputs": [],
   "source": [
    "def calculate_trip_cost(flights: int, nights: int, guide_days: int) -> int:\n",
    "    \"\"\"\n",
    "    Calculate the total cost of a trip based on flights, nights and guide days.\n",
    "\n",
    "    The cost is calculated as follows:\n",
    "    - Base cost: $500\n",
    "    - Flight cost: $1000 per flight\n",
    "    - Nightly accommodation cost: $300 per night\n",
    "    - Guide day cost: $200 per guide day\n",
    "\n",
    "    Args:\n",
    "        flights (int): Number of flights.\n",
    "        nights (int): Number of nights.\n",
    "        guide_days (int): Number of guide days.\n",
    "\n",
    "    Returns:\n",
    "        int: Total trip cost.\n",
    "    \"\"\"\n",
    "    # Calculate the total cost by adding the base cost and costs for each flight, night and guide day\n",
    "    return 500 + flights * 1000 + nights * 300 + guide_days * 200\n",
    "\n",
    "# Example usage:\n",
    "print(calculate_trip_cost(2, 5, 3))\n",
    "print(calculate_trip_cost(3, 4, 1))\n"
   ]
  },
  {
   "cell_type": "code",
   "execution_count": null,
   "id": "f4b2c9a8",
   "metadata": {
    "language": "python"
   },
   "outputs": [],
   "source": [
    "def calculate_project_cost(developers, days, features):\n",
    "    return 1000 + developers * 500 * days + features * 200\n",
    "print(calculate_project_cost(2, 10, 5))\n",
    "print(calculate_project_cost(1, 15, 10))\n",
    "print(calculate_project_cost(3, 7, 0))"
   ]
  },
  {
   "cell_type": "code",
   "execution_count": null,
   "id": "34b53a89",
   "metadata": {
    "creation_timestamp": 1738685558929,
    "language": "python",
    "last_modified": 1738685558929
   },
   "outputs": [],
   "source": [
    "def calculate_project_cost(developers: int, days: int, features: int) -> float:\n",
    "    \"\"\"\n",
    "    Calculates the total project cost based on the number of developers, \n",
    "    working days, and features to be implemented.\n",
    "\n",
    "    Args:\n",
    "        developers (int): The number of developers assigned to the project.\n",
    "        days (int): The number of working days for the project.\n",
    "        features (int): The number of features to be implemented in the project.\n",
    "\n",
    "    Returns:\n",
    "        float: The total project cost.\n",
    "\n",
    "    Formula:\n",
    "        Cost = 1000 + (developers * 500 * days) + (features * 200)\n",
    "    \"\"\"\n",
    "    return 1000 + developers * 500 * days + features * 200\n",
    "\n",
    "print(calculate_project_cost(2, 10, 5))\n",
    "print(calculate_project_cost(1, 15, 10))\n",
    "print(calculate_project_cost(3, 7, 0))\n"
   ]
  }
 ],
 "metadata": {},
 "nbformat": 4,
 "nbformat_minor": 5
}
