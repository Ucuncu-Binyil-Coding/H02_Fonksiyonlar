{
 "cells": [
  {
   "cell_type": "code",
   "execution_count": 18,
   "metadata": {},
   "outputs": [],
   "source": [
    "# Basit bir fonksionumuz olduğunu düşünelim\n",
    "\n",
    "def topla(X:int,Y:float) -> float:\n",
    "    \"\"\"X ye Y rakamlarını toplar.\"\"\"\n",
    "    return X+Y"
   ]
  },
  {
   "cell_type": "code",
   "execution_count": null,
   "metadata": {},
   "outputs": [],
   "source": [
    "# Fonksiyonu test edelim\n",
    "topla(X=3,Y=4.3) # Outputs: 7.3"
   ]
  },
  {
   "cell_type": "code",
   "execution_count": null,
   "metadata": {},
   "outputs": [],
   "source": [
    "# Hatalı kullanalım\n",
    "topla(X=1.2,Y=3) # Outputs: 4.2"
   ]
  },
  {
   "cell_type": "markdown",
   "metadata": {},
   "source": [
    "#### TIP KONTROLU\n",
    "\n",
    "Tipleri kontrol etmediğimiz için, int yerine float versek dahi fonksiyonumuz çalışıyor.\n",
    "\n",
    "Ne yapabiliriz?\n",
    "\n",
    "##### Method 1:\n",
    "`ensure` kütüphanesi kullanılabilir.\n"
   ]
  },
  {
   "cell_type": "code",
   "execution_count": null,
   "metadata": {},
   "outputs": [],
   "source": [
    "# `ensure` kitiphanesini dahil edelim\n",
    "from ensure import ensure_annotations\n",
    "\n",
    "# Fonksiyonumuzu tekrar tanımlayalım. Dekoratörü'ümüzü unutmayalım.\n",
    "@ensure_annotations\n",
    "def topla(X:int,Y:float) -> float:\n",
    "    \"\"\"X ye Y rakamlarını toplar.\"\"\"\n",
    "    return X+Y\n"
   ]
  },
  {
   "cell_type": "code",
   "execution_count": null,
   "metadata": {},
   "outputs": [],
   "source": [
    "# Doğru kullanım\n",
    "print(f\"Doğru: {topla(X=3,Y=4.3)}\") # Outputs: 7.3\n",
    "# Hatalı kullanalım\n",
    "print(f\"Yanlış: {topla(X=1.2,Y=3)}\") # Outputs: Error"
   ]
  },
  {
   "cell_type": "markdown",
   "metadata": {},
   "source": [
    "Yanlış kullanımda hata aldık ama fonksiyon içerisinde belirlediğimiz docstringimiz kayboldu ve \n",
    "\n",
    "**\"(function) topla: WrappedFunctionReturn | Wrapped\"**\n",
    "\n",
    " şeklinde görünüyor."
   ]
  },
  {
   "cell_type": "markdown",
   "metadata": {},
   "source": [
    "##### Method 2:\n",
    "`isinstance` sabiti kullanılabilir."
   ]
  },
  {
   "cell_type": "code",
   "execution_count": null,
   "metadata": {},
   "outputs": [],
   "source": [
    "\n",
    "def topla(X:int,Y:float) -> float:\n",
    "    \"\"\"X ye Y rakamlarını toplar.\"\"\"\n",
    "    assert isinstance(X,int), \"X argümanı int değil.\"\n",
    "    assert isinstance(Y,float), \"Y argümanı float değil.\"\n",
    "    result = X+Y\n",
    "    assert isinstance(result,float),\"Function float döndürmüyor\"\n",
    "    return result\n",
    "\n",
    "# Doğru kullanım\n",
    "print(f\"Doğru: {topla(X=3,Y=4.3)}\") # Outputs: 7.3\n",
    "# Hatalı kullanalım\n",
    "print(f\"Yanlış: {topla(X=1.2,Y=3)}\") # Outputs: Error"
   ]
  },
  {
   "cell_type": "markdown",
   "metadata": {},
   "source": [
    "##### Method 3:\n",
    "`type` ve `is` ile karşılaştırma yapılarak assert edilebilir."
   ]
  },
  {
   "cell_type": "code",
   "execution_count": null,
   "metadata": {},
   "outputs": [],
   "source": [
    "def topla(X:int,Y:float) -> float:\n",
    "    \"\"\"X ye Y rakamlarını toplar.\"\"\"\n",
    "    assert type(X) is int, \"X argümanı int değil.\"\n",
    "    assert type(Y) is float , \"Y argümanı float değil.\"\n",
    "    result = X+Y\n",
    "    assert type(result) is float, \"Function float döndürmüyor\"\n",
    "    return result\n",
    "\n",
    "# Doğru kullanım\n",
    "print(f\"Doğru: {topla(X=3,Y=4.3)}\") # Outputs: 7.3\n",
    "# Hatalı kullanalım\n",
    "print(f\"Yanlış: {topla(X=1.2,Y=3)}\") # Outputs: Error"
   ]
  },
  {
   "cell_type": "markdown",
   "metadata": {},
   "source": [
    "##### Method 4:\n",
    "\n",
    "`issubclass` kullanılabilir."
   ]
  },
  {
   "cell_type": "code",
   "execution_count": null,
   "metadata": {},
   "outputs": [],
   "source": [
    "def topla(X:int,Y:float) -> float:\n",
    "    \"\"\"X ye Y rakamlarını toplar.\"\"\"\n",
    "    assert issubclass(type(X),int), \"X argümanı int değil.\"\n",
    "    assert issubclass(type(Y),float) , \"Y argümanı float değil.\"\n",
    "    result = X+Y\n",
    "    assert issubclass(type(result),float), \"Function float döndürmüyor\"\n",
    "    return result\n",
    "\n",
    "# Doğru kullanım\n",
    "print(f\"Doğru: {topla(X=3,Y=4.3)}\") # Outputs: 7.3\n",
    "# Hatalı kullanalım\n",
    "print(f\"Yanlış: {topla(X=1.2,Y=3)}\") # Outputs: Error"
   ]
  },
  {
   "cell_type": "markdown",
   "metadata": {},
   "source": [
    "##### Method 5:\n",
    "\n",
    "`type` ile tip isminden (`__name__ `) kıyaslanabilir."
   ]
  },
  {
   "cell_type": "code",
   "execution_count": null,
   "metadata": {},
   "outputs": [],
   "source": [
    "def topla(X:int,Y:float) -> float:\n",
    "    \"\"\"X ye Y rakamlarını toplar.\"\"\"\n",
    "    assert type(X).__name__ == \"int\", \"X argümanı int değil.\"\n",
    "    assert type(Y).__name__ == \"float\" , \"Y argümanı float değil.\"\n",
    "    result = X+Y\n",
    "    assert type(result).__name__ == \"float\" , \"Function float döndürmüyor\"\n",
    "    return result\n",
    "\n",
    "# Doğru kullanım\n",
    "print(f\"Doğru: {topla(X=3,Y=4.3)}\") # Outputs: 7.3\n",
    "# Hatalı kullanalım\n",
    "print(f\"Yanlış: {topla(X=1.2,Y=3)}\") # Outputs: Error"
   ]
  },
  {
   "cell_type": "markdown",
   "metadata": {},
   "source": [
    "##### Method 6:\n",
    "\n",
    "Custom Function: type_checker as decorator"
   ]
  },
  {
   "cell_type": "code",
   "execution_count": 9,
   "metadata": {},
   "outputs": [],
   "source": [
    "from typing import get_type_hints\n",
    "\n",
    "def type_checker(f):\n",
    "    \"\"\"\n",
    "    A decorator that verifies if the arguments of a function match the specified type.\n",
    "    @param f: the function\n",
    "    @return:\n",
    "    \"\"\"\n",
    "    def checker(*args, **kwargs):\n",
    "        hints = get_type_hints(f)\n",
    "\n",
    "        all_args = kwargs.copy()\n",
    "        all_args.update(dict(zip(f.__code__.co_varnames, args)))\n",
    "\n",
    "        # Check the args type\n",
    "        for arg_name, arg_value in all_args.items():\n",
    "            if arg_name in hints:\n",
    "                expected_type = hints[arg_name]\n",
    "                # If Union get values\n",
    "                if hasattr(expected_type, \"__origin__\") and expected_type.__origin__ == typing.Union:\n",
    "                    expected_type = expected_type.__args__\n",
    "                msg = f\"The `{arg_name}` parameter in `{f.__name__}` function should be an {expected_type} type. \" \\\n",
    "                    f\"A {type(arg_value)} type was passed instead.\"\n",
    "                assert isinstance(arg_value, expected_type), msg\n",
    "\n",
    "        output = f(*args, **kwargs)\n",
    "\n",
    "        # Check the output type if specified\n",
    "        output_type = hints.get('return', None)\n",
    "        if output_type:\n",
    "            msg = f\"The `{f.__name__}` function should return a {output_type}, \" \\\n",
    "                f\"but it's returning a {type(output)} instead. \" \\\n",
    "                \"Please ensure that the return type matches the expected type.\"\n",
    "            assert isinstance(output, output_type), msg\n",
    "        return output\n",
    "    return checker"
   ]
  },
  {
   "cell_type": "code",
   "execution_count": null,
   "metadata": {},
   "outputs": [],
   "source": [
    "@type_checker\n",
    "def topla(X:int,Y:float) -> float:\n",
    "    \"\"\"X ye Y rakamlarını toplar.\"\"\"\n",
    "    return X+Y\n",
    "\n",
    "# Doğru kullanım\n",
    "print(f\"Doğru: {topla(X=3,Y=4.3)}\") # Outputs: 7.3\n",
    "# Hatalı kullanalım\n",
    "print(f\"Yanlış: {topla(X=1.2,Y=3)}\") # Outputs: Error"
   ]
  },
  {
   "cell_type": "code",
   "execution_count": null,
   "metadata": {},
   "outputs": [],
   "source": [
    "from typing import get_type_hints\n",
    "\n",
    "def topla(X:int,Y:float) -> float:\n",
    "    \"\"\"X ye Y rakamlarını toplar.\"\"\"\n",
    "    hints = get_type_hints(topla)\n",
    "    print(hints)\n",
    "    print(X)\n",
    "    return X+Y\n",
    "\n",
    "topla(3,5)"
   ]
  },
  {
   "cell_type": "code",
   "execution_count": null,
   "metadata": {},
   "outputs": [],
   "source": []
  }
 ],
 "metadata": {
  "kernelspec": {
   "display_name": "sanalortam",
   "language": "python",
   "name": "python3"
  },
  "language_info": {
   "codemirror_mode": {
    "name": "ipython",
    "version": 3
   },
   "file_extension": ".py",
   "mimetype": "text/x-python",
   "name": "python",
   "nbconvert_exporter": "python",
   "pygments_lexer": "ipython3",
   "version": "3.12.1"
  }
 },
 "nbformat": 4,
 "nbformat_minor": 2
}
