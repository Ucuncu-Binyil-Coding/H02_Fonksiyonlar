{
 "cells": [
  {
   "cell_type": "markdown",
   "metadata": {},
   "source": [
    "### Soru 1\n",
    "Float tipinde verilen sayıyı aşağıdaki örnekteki gibi yuvarlayın."
   ]
  },
  {
   "cell_type": "code",
   "execution_count": 1,
   "metadata": {},
   "outputs": [
    {
     "name": "stdout",
     "output_type": "stream",
     "text": [
      "3.142\n"
     ]
    }
   ],
   "source": [
    "pi = 3.1423454\n",
    "yuvarlanmis_pi = round(pi,3)\n",
    "print(yuvarlanmis_pi)"
   ]
  },
  {
   "cell_type": "code",
   "execution_count": 2,
   "metadata": {},
   "outputs": [
    {
     "name": "stdout",
     "output_type": "stream",
     "text": [
      "3.14\n"
     ]
    }
   ],
   "source": [
    "def iki_ondalik_yuvarla(sayi:float,ondalik:int=2):\n",
    "    \"\"\"\n",
    "    Hint: Verilen rakamı 2 (default) basamaklı olarak yuvarlar.\n",
    "    Parameters:\n",
    "        sayi: Yuvarlanacak sayi\n",
    "        ondalik: Sifirdan sonraki basamak sayisi\n",
    "    \"\"\"\n",
    "    return round(sayi,ondalik)\n",
    "\n",
    "print(iki_ondalik_yuvarla(pi))"
   ]
  },
  {
   "cell_type": "code",
   "execution_count": null,
   "metadata": {},
   "outputs": [],
   "source": [
    "from os import makedirs\n",
    "\n",
    "# makedirs(\"klasor1\")\n",
    "\n",
    "def klasorler_olustur(adet:int):\n",
    "    for x in range(adet):\n",
    "        klasor_ismi = f\"klasor_{x+1}\"\n",
    "        makedirs(klasor_ismi,exist_ok=True)\n",
    "\n",
    "klasorler_olustur(20)"
   ]
  },
  {
   "cell_type": "code",
   "execution_count": 7,
   "metadata": {},
   "outputs": [],
   "source": [
    "def yollarla_klasorler_olustur(klasorler:list):\n",
    "    for klasor in klasorler:\n",
    "        makedirs(klasor,exist_ok=True)\n",
    "\n",
    "klasorler = [f\"klasor_{x+1}\" for x in range(10)]\n",
    "yollarla_klasorler_olustur(klasorler)"
   ]
  },
  {
   "cell_type": "code",
   "execution_count": 10,
   "metadata": {},
   "outputs": [
    {
     "data": {
      "text/plain": [
       "1"
      ]
     },
     "execution_count": 10,
     "metadata": {},
     "output_type": "execute_result"
    }
   ],
   "source": [
    "# 3 çocuk cadılar bayramında aldıkları şekerleri kendi arasında paylaşıyor. Ama arta kalan şekerleri eşit parçalara kırıp o şekilde paylaşıyorlar.\n",
    "\n",
    "# Örnek olarak 3 cocuk toplamda 91 şekeri kişi başına 30 tane olacak şekilde paylaşıyor sona kalan 1 şekeri 3'e kırarcak şekilde paylaşıyorlar.\n",
    "\n",
    "# Şekerler paylaşıldıktan sonra geriye kalan şeker sayısının hesaplayın. Bunu için fonksiyon tanımlayın ve fonksiyonu çağırın.\n",
    "\n",
    "def seker_paylasim_hesapla(seker_sayisi:int=91,cocuk_sayisi:int=3):\n",
    "    \"\"\"Şekerler çocuklar arasında paylaşıldıktan sonra kalan şeker sayısını hesaplar.\"\"\"\n",
    "    return seker_sayisi % cocuk_sayisi\n",
    "\n",
    "kirilacak_seker_sayisi = seker_paylasim_hesapla(91,3)\n",
    "print(f\"Kirilacak şeker sayisi: {kirilacak_seker_sayisi}\")"
   ]
  },
  {
   "cell_type": "code",
   "execution_count": 18,
   "metadata": {},
   "outputs": [
    {
     "data": {
      "text/plain": [
       "150000.0"
      ]
     },
     "execution_count": 18,
     "metadata": {},
     "output_type": "execute_result"
    }
   ],
   "source": [
    "# Bir evin fiyatını belirleyen bir fonksiyon oluşturalım.\n",
    "bodrum_maliyet:float = 10000.0\n",
    "yatak_maliyet:float = 30000.0\n",
    "bodrum_maliyet:float = 40000.0\n",
    "temel_maliyet:float = 80000.0\n",
    "\n",
    "def evin_fiyatini_belirle(yatak_odasi:float,banyo_sayisi:float,bodrum_varmi=False):\n",
    "    price = temel_maliyet\n",
    "    price += yatak_odasi * yatak_maliyet\n",
    "    price += banyo_sayisi * bodrum_maliyet\n",
    "    # if bodrum_varmi:\n",
    "    price += bodrum_varmi * bodrum_maliyet \n",
    "    return price\n",
    "\n",
    "evin_fiyatini_belirle(yatak_odasi=1,banyo_sayisi=1,bodrum_varmi=False)"
   ]
  },
  {
   "cell_type": "code",
   "execution_count": null,
   "metadata": {},
   "outputs": [
    {
     "name": "stdout",
     "output_type": "stream",
     "text": [
      "Tavanımız: 22.1m²\n",
      "Duvarımız: 57.4m²\n",
      "Litre Başına Boyanan: 1.5m²\n",
      "Litre Fiyatı: $23.99\n",
      "Gerekli Boya Miktarı: 53 lt\n",
      "\n",
      "Total Maliyetimiz: $1271.47\n"
     ]
    }
   ],
   "source": [
    "import math\n",
    "\n",
    "def getCost(sqftceiling:float,sqftwall:float,sqftPerLtr:float,costPerLtr:float) -> float:\n",
    "    \"\"\"Bu fonksiyon bir odanın boyanması için toplam maliyeti hesaplar\n",
    "    \n",
    "    Parameters:\n",
    "        sqftceiling: Tavan metrekaresi\n",
    "        sqftwall: Duvar metrekaresi\n",
    "        sqftPerLtr: Litre başına boyanabilen metrekare\n",
    "        costPerLtr: Litre başına boya maliyeti\n",
    "\n",
    "    Returns:\n",
    "        tam_litre: Gerekli boya litresinin yukarı yuvarlanmışı\n",
    "        total_cost: Total maliyetimiz\n",
    "    \"\"\"\n",
    "    # Toplama boyanacak alanı hesaplayalım\n",
    "    surface = sqftceiling + sqftwall\n",
    "\n",
    "    # Alanı boyamak için gereken litre boyayı hesaplayalım\n",
    "    paint_req = surface / sqftPerLtr\n",
    "\n",
    "    # Boyayı yukarı yuvaralyalım\n",
    "    tam_litre = math.ceil(paint_req)\n",
    "\n",
    "    # Gereken litre boyayı, litrelik fiyat ile çarpalım\n",
    "    total_cost = tam_litre * costPerLtr\n",
    "\n",
    "    return tam_litre,total_cost\n",
    "\n",
    "# Sabit değerleri belirleyelim\n",
    "tavan = 22.1\n",
    "duvar = 57.4\n",
    "litreyle_metrekare = 1.5\n",
    "boya_litre_fiyatı = 23.99\n",
    "\n",
    "paint_req,raw_cost = getCost(tavan,duvar,litreyle_metrekare,boya_litre_fiyatı)\n",
    "\n",
    "print(f\"\"\"Tavanımız: {tavan}m²\n",
    "Duvarımız: {duvar}m²\n",
    "Litre Başına Boyanan: {litreyle_metrekare}m²\n",
    "Litre Fiyatı: ${boya_litre_fiyatı}\n",
    "Gerekli Boya Miktarı: {paint_req} lt\n",
    "\n",
    "Total Maliyetimiz: ${raw_cost}\"\"\")"
   ]
  },
  {
   "cell_type": "markdown",
   "metadata": {},
   "source": [
    "##### Soru 6\n",
    "Şekillerin alanını hesaplayan bir fonksiyon yazmanız isteniyor. 4 adet fonksiyon tanımlayın.\n",
    "\n",
    "    - Dairenin alan hesabı\n",
    "    - Karenin alan hesabı\n",
    "    - Dikdörtgen alan hesabı\n",
    "\n",
    "Sonra 3 fonksiyonu da çağırın. Fonksiyonları tanımlarken parametrelerin ve değişkenlerin tiplerini belirtin ve dokumente edin."
   ]
  },
  {
   "cell_type": "code",
   "execution_count": null,
   "metadata": {},
   "outputs": [],
   "source": [
    "def daire_alan(r:float,pi:float=3.14) -> float:\n",
    "    \"\"\"Dairenin alanını hesaplar\n",
    "    \n",
    "    Args:\n",
    "        r: Dairenin yari capi (radius)\n",
    "        pi: default 3.14\n",
    "    \n",
    "    Returns:\n",
    "        alan: Dairenin alanı\n",
    "    \"\"\"\n",
    "    alan:float = pi * r ** 2\n",
    "    return alan\n",
    "\n",
    "def kare_alan(side:float) -> float:\n",
    "    \"\"\"Karenin alanını hesaplar\n",
    "    \n",
    "    Args:\n",
    "        side: Bir kenarın uzunluğu\n",
    "\n",
    "    Returns:\n",
    "        alan: Karenin alanı\n",
    "    \"\"\"\n",
    "    alan:float = side ** 2\n",
    "    return alan\n",
    "\n",
    "def dikdortgen_alan(short_side:float,long_side:float) -> float:\n",
    "    \"\"\"Karenin alanını hesaplar\n",
    "    \n",
    "    Args:\n",
    "        side: Bir kenarın uzunluğu\n",
    "\n",
    "    Returns:\n",
    "        alan: Dikdortgenin alanı\n",
    "    \"\"\"\n",
    "    alan:float = short_side * long_side\n",
    "    return alan\n"
   ]
  },
  {
   "cell_type": "code",
   "execution_count": null,
   "metadata": {},
   "outputs": [
    {
     "data": {
      "text/plain": [
       "28.26"
      ]
     },
     "metadata": {},
     "output_type": "display_data"
    }
   ],
   "source": [
    "# Dairenin alanını hesaplayalım\n",
    "daire_alan(3)"
   ]
  },
  {
   "cell_type": "code",
   "execution_count": null,
   "metadata": {},
   "outputs": [
    {
     "data": {
      "text/plain": [
       "18.49"
      ]
     },
     "metadata": {},
     "output_type": "display_data"
    }
   ],
   "source": [
    "# Karenin alanını hesaplayalım\n",
    "kare_alan(4.3)"
   ]
  },
  {
   "cell_type": "code",
   "execution_count": null,
   "metadata": {},
   "outputs": [
    {
     "data": {
      "text/plain": [
       "24"
      ]
     },
     "metadata": {},
     "output_type": "display_data"
    }
   ],
   "source": [
    "# Dikdörtgenin alanını hesaplayalım\n",
    "dikdortgen_alan(3,8)"
   ]
  },
  {
   "cell_type": "markdown",
   "metadata": {},
   "source": [
    "##### TIP GUVENLIGI"
   ]
  },
  {
   "cell_type": "code",
   "execution_count": null,
   "metadata": {},
   "outputs": [
    {
     "name": "stdout",
     "output_type": "stream",
     "text": [
      "Collecting ensure\n",
      "  Obtaining dependency information for ensure from https://files.pythonhosted.org/packages/53/34/076953d6007a5eeaa2fdd2f78c23bdf4ba1926f3cd334d59af34f354ecc6/ensure-1.0.4-py3-none-any.whl.metadata\n",
      "  Downloading ensure-1.0.4-py3-none-any.whl.metadata (10 kB)\n",
      "Requirement already satisfied: six>=1.11.0 in /workspaces/H02_Fonksiyonlar/sanalortam/lib/python3.12/site-packages (from ensure) (1.17.0)\n",
      "Downloading ensure-1.0.4-py3-none-any.whl (15 kB)\n",
      "Installing collected packages: ensure\n",
      "Successfully installed ensure-1.0.4\n",
      "\n",
      "\u001b[1m[\u001b[0m\u001b[34;49mnotice\u001b[0m\u001b[1;39;49m]\u001b[0m\u001b[39;49m A new release of pip is available: \u001b[0m\u001b[31;49m23.2.1\u001b[0m\u001b[39;49m -> \u001b[0m\u001b[32;49m25.0\u001b[0m\n",
      "\u001b[1m[\u001b[0m\u001b[34;49mnotice\u001b[0m\u001b[1;39;49m]\u001b[0m\u001b[39;49m To update, run: \u001b[0m\u001b[32;49mpip install --upgrade pip\u001b[0m\n"
     ]
    }
   ],
   "source": [
    "!pip install ensure"
   ]
  },
  {
   "cell_type": "code",
   "execution_count": null,
   "metadata": {},
   "outputs": [],
   "source": [
    "from ensure import ensure_annotations\n",
    "import inspect"
   ]
  },
  {
   "cell_type": "code",
   "execution_count": null,
   "metadata": {},
   "outputs": [],
   "source": [
    "# Ucgen alan hesaplama\n",
    "# @ensure_annotations\n",
    "def ucgen_alan(taban:float,yukseklik:float):\n",
    "    alan:float = (taban * yukseklik) / 2\n",
    "    return alan"
   ]
  },
  {
   "cell_type": "code",
   "execution_count": null,
   "metadata": {},
   "outputs": [
    {
     "data": {
      "text/plain": [
       "9.18"
      ]
     },
     "metadata": {},
     "output_type": "display_data"
    }
   ],
   "source": [
    "ucgen_alan(3.4,5.4)"
   ]
  },
  {
   "cell_type": "code",
   "execution_count": null,
   "metadata": {},
   "outputs": [],
   "source": [
    "\n",
    "def generate_docstring(func):\n",
    "    \"\"\"Generate a formatted docstring from a given function.\"\"\"\n",
    "    # Get the existing docstring, if any\n",
    "    current_doc = func.__doc__\n",
    "    \n",
    "    # Extract the parameter names and their descriptions\n",
    "    parameters = []\n",
    "    for name, param in inspect.getfullargspec(func).arguments.items():\n",
    "        if description := param.__doc__:\n",
    "            parameters.append(f\"{name}: {description}\")\n",
    "    \n",
    "    # Create a formatted docstring with function info and parameters\n",
    "    lines = [\n",
    "        f\"Function: `{func.__name__}`\",\n",
    "        \"Parameters:\",\n",
    "    ]\n",
    "    lines.extend(parameters)\n",
    "    \n",
    "    return \"\\n\".join(lines)"
   ]
  },
  {
   "cell_type": "code",
   "execution_count": null,
   "metadata": {},
   "outputs": [],
   "source": [
    "def generate_docstring(func):\n",
    "    \"\"\"Generate a formatted docstring from a given function.\"\"\"\n",
    "    # Get the existing docstring, if any\n",
    "    current_doc = func.__doc__\n",
    "    \n",
    "    # Extract the parameter names and their descriptions using inspect.signature\n",
    "    sig = inspect.signature(func)\n",
    "    parameters = []\n",
    "    for name, param in sig.parameters.items():\n",
    "        description = param.__doc__  # Get the parameter's docstring\n",
    "        if description:\n",
    "            parameters.append(f\"{name}: {description}\")\n",
    "    \n",
    "    # Create a formatted docstring with function info and parameters\n",
    "    lines = [\n",
    "        f\"Function: `{func.__name__}`\",\n",
    "        \"Parameters:\",\n",
    "    ]\n",
    "    lines.extend(parameters)\n",
    "    \n",
    "    return \"\\n\".join(lines)"
   ]
  },
  {
   "cell_type": "code",
   "execution_count": null,
   "metadata": {},
   "outputs": [
    {
     "name": "stdout",
     "output_type": "stream",
     "text": [
      "Function: `ucgen_alan`\n",
      "Parameters:\n",
      "taban: Represents a parameter in a function signature.\n",
      "\n",
      "    Has the following public attributes:\n",
      "\n",
      "    * name : str\n",
      "        The name of the parameter as a string.\n",
      "    * default : object\n",
      "        The default value for the parameter if specified.  If the\n",
      "        parameter has no default value, this attribute is set to\n",
      "        `Parameter.empty`.\n",
      "    * annotation\n",
      "        The annotation for the parameter if specified.  If the\n",
      "        parameter has no annotation, this attribute is set to\n",
      "        `Parameter.empty`.\n",
      "    * kind : str\n",
      "        Describes how argument values are bound to the parameter.\n",
      "        Possible values: `Parameter.POSITIONAL_ONLY`,\n",
      "        `Parameter.POSITIONAL_OR_KEYWORD`, `Parameter.VAR_POSITIONAL`,\n",
      "        `Parameter.KEYWORD_ONLY`, `Parameter.VAR_KEYWORD`.\n",
      "    \n",
      "yukseklik: Represents a parameter in a function signature.\n",
      "\n",
      "    Has the following public attributes:\n",
      "\n",
      "    * name : str\n",
      "        The name of the parameter as a string.\n",
      "    * default : object\n",
      "        The default value for the parameter if specified.  If the\n",
      "        parameter has no default value, this attribute is set to\n",
      "        `Parameter.empty`.\n",
      "    * annotation\n",
      "        The annotation for the parameter if specified.  If the\n",
      "        parameter has no annotation, this attribute is set to\n",
      "        `Parameter.empty`.\n",
      "    * kind : str\n",
      "        Describes how argument values are bound to the parameter.\n",
      "        Possible values: `Parameter.POSITIONAL_ONLY`,\n",
      "        `Parameter.POSITIONAL_OR_KEYWORD`, `Parameter.VAR_POSITIONAL`,\n",
      "        `Parameter.KEYWORD_ONLY`, `Parameter.VAR_KEYWORD`.\n",
      "    \n"
     ]
    }
   ],
   "source": [
    "docstring = generate_docstring(ucgen_alan)\n",
    "print(docstring)"
   ]
  },
  {
   "cell_type": "markdown",
   "metadata": {},
   "source": [
    "##### Soru 7\n",
    "\n",
    "Bir restaurant sahibisiniz. Menudeki yemeklerinize 2025 için zam yapmayı düşünüyorsunuz.\n",
    "\n",
    "Devlet regülazasyonuna göre, tek tip zam yapma zorunluluunuz var. Zam yapma oranınız 30%.\n",
    "\n",
    "Zam yapacağınız yemekler lüks tüketim yemeleri olmak zorunda ve bu da aylık olarak değişiyor.\n",
    "\n",
    "---\n",
    "\n",
    "Ocak Ayı Zam Senaryosu -> Bonfile 250'den 30% zam yapılacak. Antrikot'a 210 tl"
   ]
  },
  {
   "cell_type": "code",
   "execution_count": null,
   "metadata": {},
   "outputs": [],
   "source": [
    "luks_yemek_menusu = {\"Bonfile\":250.0,\"Antrikot\":210.0, \"Ahtapot\":460.0,\"Karides\":570.0}\n",
    "ocak_zamlari = [\"Bonfile\",\"Antrikot\"]\n",
    "subat_zamları = [\"Ahtapot\",\"Karides\"]"
   ]
  },
  {
   "cell_type": "code",
   "execution_count": null,
   "metadata": {},
   "outputs": [],
   "source": [
    "from ensure import ensure_annotations\n",
    "\n",
    "@ensure_annotations\n",
    "def calc_new_prices(menu:dict,interest_foods:list,interest_rate:float=0.3):\n",
    "    \"\"\"Menudeki ürünlerin ay'a göre zaman gelenlerine, zam oranında fiyat güncellemesi yapar\n",
    "    \n",
    "    Args:\n",
    "        menu (dict): 2024 yılı restaurant'ın tüm menüsü.\n",
    "        interest_foods (list): Ay bazlı zam gelecek ürünler\n",
    "        interest_rate (float): Regülasyona göre devlet tarafından belirlenen zam oranı. default 30%\n",
    "    \n",
    "    Returns:\n",
    "        menu (dict): Güncellenmiş fiyatlı menü dictionary'si\n",
    "    \"\"\"\n",
    "    menu = menu.copy()\n",
    "    for food in interest_foods:\n",
    "        price = menu[food]\n",
    "        # menu[food] = price + (price * interest_rate)\n",
    "        menu[food] = price * (1 + interest_rate)\n",
    "    return menu"
   ]
  },
  {
   "cell_type": "code",
   "execution_count": null,
   "metadata": {},
   "outputs": [
    {
     "data": {
      "text/plain": [
       "{'Bonfile': 250.0, 'Antrikot': 210.0, 'Ahtapot': 598.0, 'Karides': 741.0}"
      ]
     },
     "metadata": {},
     "output_type": "display_data"
    }
   ],
   "source": [
    "calc_new_prices(luks_yemek_menusu,subat_zamları)"
   ]
  },
  {
   "cell_type": "code",
   "execution_count": null,
   "metadata": {},
   "outputs": [],
   "source": [
    "def adjust_menu_prices(menu, interest_foods_january=None, interest_rate=0.3):\n",
    "    \"\"\"\n",
    "    Adjust the prices of specific food items in the menu based on the given interest rate.\n",
    "    \n",
    "    Args:\n",
    "        menu (dict): The original menu with item names as keys and their prices as values.\n",
    "        interest_foods_january (list, optional): List of food items to be updated in January. Defaults to None.\n",
    "        interest_rate (float, optional): The raise value as a decimal. Defaults to 0.3.\n",
    "    \n",
    "    Returns:\n",
    "        dict: A new dictionary with the updated prices for the specified months.\n",
    "    \"\"\"\n",
    "    # Create a copy of the menu to avoid modifying the original\n",
    "    updated_menu = menu.copy()\n",
    "    \n",
    "    # January updates\n",
    "    if interest_foods_january is not None:\n",
    "        for item in interest_foods_january:\n",
    "            if item in updated_menu:\n",
    "                updated_price = updated_menu[item] * (1 + interest_rate)\n",
    "                updated_menu[item] = round(updated_price, 2)  # Rounding to two decimal places\n",
    "\n",
    "    return updated_menu"
   ]
  },
  {
   "cell_type": "code",
   "execution_count": null,
   "metadata": {},
   "outputs": [
    {
     "data": {
      "text/plain": [
       "{'Bonfile': 325.0, 'Antrikot': 273.0, 'Ahtapot': 460.0, 'Karides': 570.0}"
      ]
     },
     "metadata": {},
     "output_type": "display_data"
    }
   ],
   "source": [
    "adjust_menu_prices(luks_yemek_menusu,ocak_zamlari)"
   ]
  },
  {
   "cell_type": "code",
   "execution_count": null,
   "metadata": {},
   "outputs": [],
   "source": [
    "from ensure import ensure_annotations\n",
    "\n",
    "@ensure_annotations\n",
    "def sayi_toplama(*sayilar:float) -> float:\n",
    "    toplam = 0\n",
    "    for sayi in sayilar:\n",
    "        toplam = toplam + sayi\n",
    "    return toplam"
   ]
  },
  {
   "cell_type": "code",
   "execution_count": null,
   "metadata": {},
   "outputs": [
    {
     "ename": "EnsureError",
     "evalue": "Return value of <function sayi_toplama at 0x7a09694e4360> of type <class 'int'> does not match annotation type <class 'float'>",
     "output_type": "error",
     "traceback": [
      "\u001b[0;31m---------------------------------------------------------------------------\u001b[0m\n",
      "\u001b[0;31mEnsureError\u001b[0m                               Traceback (most recent call last)\n",
      "Cell \u001b[0;32mIn[7], line 1\u001b[0m\n",
      "\u001b[0;32m----> 1\u001b[0m \u001b[43msayi_toplama\u001b[49m\u001b[43m(\u001b[49m\u001b[38;5;241;43m3\u001b[39;49m\u001b[43m,\u001b[49m\u001b[38;5;241;43m4\u001b[39;49m\u001b[43m,\u001b[49m\u001b[38;5;241;43m5\u001b[39;49m\u001b[43m,\u001b[49m\u001b[38;5;241;43m2\u001b[39;49m\u001b[43m,\u001b[49m\u001b[38;5;241;43m6\u001b[39;49m\u001b[43m)\u001b[49m\n",
      "\n",
      "File \u001b[0;32m/workspaces/H02_Fonksiyonlar/sanalortam/lib/python3.12/site-packages/ensure/main.py:875\u001b[0m, in \u001b[0;36mWrappedFunctionReturn.__call__\u001b[0;34m(self, *args, **kwargs)\u001b[0m\n",
      "\u001b[1;32m    873\u001b[0m \u001b[38;5;28;01mif\u001b[39;00m \u001b[38;5;129;01mnot\u001b[39;00m \u001b[38;5;28misinstance\u001b[39m(return_val, \u001b[38;5;28mself\u001b[39m\u001b[38;5;241m.\u001b[39mreturn_templ):\n",
      "\u001b[1;32m    874\u001b[0m     msg \u001b[38;5;241m=\u001b[39m \u001b[38;5;124m\"\u001b[39m\u001b[38;5;124mReturn value of \u001b[39m\u001b[38;5;132;01m{f}\u001b[39;00m\u001b[38;5;124m of type \u001b[39m\u001b[38;5;132;01m{valt}\u001b[39;00m\u001b[38;5;124m \u001b[39m\u001b[38;5;124m\"\u001b[39m \u001b[38;5;124m\"\u001b[39m\u001b[38;5;124mdoes not match annotation type \u001b[39m\u001b[38;5;132;01m{t}\u001b[39;00m\u001b[38;5;124m\"\u001b[39m\n",
      "\u001b[0;32m--> 875\u001b[0m     \u001b[38;5;28;01mraise\u001b[39;00m EnsureError(msg\u001b[38;5;241m.\u001b[39mformat(f\u001b[38;5;241m=\u001b[39m\u001b[38;5;28mself\u001b[39m\u001b[38;5;241m.\u001b[39mf, t\u001b[38;5;241m=\u001b[39m\u001b[38;5;28mself\u001b[39m\u001b[38;5;241m.\u001b[39mreturn_templ, valt\u001b[38;5;241m=\u001b[39m\u001b[38;5;28mtype\u001b[39m(return_val)))\n",
      "\u001b[1;32m    876\u001b[0m \u001b[38;5;28;01mreturn\u001b[39;00m return_val\n",
      "\n",
      "\u001b[0;31mEnsureError\u001b[0m: Return value of <function sayi_toplama at 0x7a09694e4360> of type <class 'int'> does not match annotation type <class 'float'>"
     ]
    }
   ],
   "source": [
    "sayi_toplama(3,4,5,2,6)"
   ]
  },
  {
   "cell_type": "code",
   "execution_count": null,
   "metadata": {},
   "outputs": [],
   "source": [
    "from ensure import ensure_annotations\n",
    "import functools"
   ]
  },
  {
   "cell_type": "code",
   "execution_count": null,
   "metadata": {},
   "outputs": [],
   "source": [
    "\n",
    "@functools.wraps\n",
    "@ensure_annotations\n",
    "def regulasyon_zammi(*luks_yemekler_fiyat,devlet_regulasyon_zammi = 1.3):\n",
    "    \"\"\"Bu fonksiyon 2025 yılı devlet regülasyonlarına göre aylık olarak belirlenen lüks tüketim yemeklerine 30% oranında zam hesaplar\n",
    "    \n",
    "    Parametreler:\n",
    "        lüks_yemekler_fiyat -> Ay içinde belirlenen lüks tüketim olan yemeklerin 2024 fiyatıdır.\n",
    "    \n",
    "    Return:\n",
    "        Devlet Regülasyonuna göre 2025 zam yapılmış fiyatını döndürür.\n",
    "    \"\"\"\n",
    "    luks_yemekler_fiyat = list(luks_yemekler_fiyat)\n",
    "    for i in range(len(luks_yemekler_fiyat)):\n",
    "        luks_yemekler_fiyat[i] *= devlet_regulasyon_zammi\n",
    "    return luks_yemekler_fiyat\n"
   ]
  },
  {
   "cell_type": "code",
   "execution_count": null,
   "metadata": {},
   "outputs": [
    {
     "data": {
      "text/plain": [
       "[3.9000000000000004, 6.5]"
      ]
     },
     "metadata": {},
     "output_type": "display_data"
    }
   ],
   "source": [
    "regulasyon_zammi(3,5)"
   ]
  }
 ],
 "metadata": {
  "kernelspec": {
   "display_name": "Python 3",
   "language": "python",
   "name": "python3"
  },
  "language_info": {
   "codemirror_mode": {
    "name": "ipython",
    "version": 3
   },
   "file_extension": ".py",
   "mimetype": "text/x-python",
   "name": "python",
   "nbconvert_exporter": "python",
   "pygments_lexer": "ipython3",
   "version": "3.12.1"
  }
 },
 "nbformat": 4,
 "nbformat_minor": 2
}
