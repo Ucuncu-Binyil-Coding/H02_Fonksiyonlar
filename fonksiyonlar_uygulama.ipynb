{
 "cells": [
  {
   "cell_type": "markdown",
   "metadata": {},
   "source": [
    "### Soru 1\n",
    "Float tipinde verilen sayıyı aşağıdaki örnekteki gibi yuvarlayın."
   ]
  },
  {
   "cell_type": "code",
   "execution_count": 1,
   "metadata": {},
   "outputs": [
    {
     "name": "stdout",
     "output_type": "stream",
     "text": [
      "3.142\n"
     ]
    }
   ],
   "source": [
    "pi = 3.1423454\n",
    "yuvarlanmis_pi = round(pi,3)\n",
    "print(yuvarlanmis_pi)"
   ]
  },
  {
   "cell_type": "code",
   "execution_count": 2,
   "metadata": {},
   "outputs": [
    {
     "name": "stdout",
     "output_type": "stream",
     "text": [
      "3.14\n"
     ]
    }
   ],
   "source": [
    "def iki_ondalik_yuvarla(sayi:float,ondalik:int=2):\n",
    "    \"\"\"\n",
    "    Hint: Verilen rakamı 2 (default) basamaklı olarak yuvarlar.\n",
    "    Parameters:\n",
    "        sayi: Yuvarlanacak sayi\n",
    "        ondalik: Sifirdan sonraki basamak sayisi\n",
    "    \"\"\"\n",
    "    return round(sayi,ondalik)\n",
    "\n",
    "print(iki_ondalik_yuvarla(pi))"
   ]
  },
  {
   "cell_type": "code",
   "execution_count": null,
   "metadata": {},
   "outputs": [],
   "source": [
    "from os import makedirs\n",
    "\n",
    "# makedirs(\"klasor1\")\n",
    "\n",
    "def klasorler_olustur(adet:int):\n",
    "    for x in range(adet):\n",
    "        klasor_ismi = f\"klasor_{x+1}\"\n",
    "        makedirs(klasor_ismi,exist_ok=True)\n",
    "\n",
    "klasorler_olustur(20)"
   ]
  },
  {
   "cell_type": "code",
   "execution_count": 7,
   "metadata": {},
   "outputs": [],
   "source": [
    "def yollarla_klasorler_olustur(klasorler:list):\n",
    "    for klasor in klasorler:\n",
    "        makedirs(klasor,exist_ok=True)\n",
    "\n",
    "klasorler = [f\"klasor_{x+1}\" for x in range(10)]\n",
    "yollarla_klasorler_olustur(klasorler)"
   ]
  },
  {
   "cell_type": "code",
   "execution_count": 10,
   "metadata": {},
   "outputs": [
    {
     "data": {
      "text/plain": [
       "1"
      ]
     },
     "execution_count": 10,
     "metadata": {},
     "output_type": "execute_result"
    }
   ],
   "source": [
    "# 3 çocuk cadılar bayramında aldıkları şekerleri kendi arasında paylaşıyor. Ama arta kalan şekerleri eşit parçalara kırıp o şekilde paylaşıyorlar.\n",
    "\n",
    "# Örnek olarak 3 cocuk toplamda 91 şekeri kişi başına 30 tane olacak şekilde paylaşıyor sona kalan 1 şekeri 3'e kırarcak şekilde paylaşıyorlar.\n",
    "\n",
    "# Şekerler paylaşıldıktan sonra geriye kalan şeker sayısının hesaplayın. Bunu için fonksiyon tanımlayın ve fonksiyonu çağırın.\n",
    "\n",
    "def seker_paylasim_hesapla(seker_sayisi:int=91,cocuk_sayisi:int=3):\n",
    "    \"\"\"Şekerler çocuklar arasında paylaşıldıktan sonra kalan şeker sayısını hesaplar.\"\"\"\n",
    "    return seker_sayisi % cocuk_sayisi\n",
    "\n",
    "kirilacak_seker_sayisi = seker_paylasim_hesapla(91,3)\n",
    "print(f\"Kirilacak şeker sayisi: {kirilacak_seker_sayisi}\")"
   ]
  },
  {
   "cell_type": "code",
   "execution_count": 18,
   "metadata": {},
   "outputs": [
    {
     "data": {
      "text/plain": [
       "150000.0"
      ]
     },
     "execution_count": 18,
     "metadata": {},
     "output_type": "execute_result"
    }
   ],
   "source": [
    "# Bir evin fiyatını belirleyen bir fonksiyon oluşturalım.\n",
    "bodrum_maliyet:float = 10000.0\n",
    "yatak_maliyet:float = 30000.0\n",
    "bodrum_maliyet:float = 40000.0\n",
    "temel_maliyet:float = 80000.0\n",
    "\n",
    "def evin_fiyatini_belirle(yatak_odasi:float,banyo_sayisi:float,bodrum_varmi=False):\n",
    "    price = temel_maliyet\n",
    "    price += yatak_odasi * yatak_maliyet\n",
    "    price += banyo_sayisi * bodrum_maliyet\n",
    "    # if bodrum_varmi:\n",
    "    price += bodrum_varmi * bodrum_maliyet \n",
    "    return price\n",
    "\n",
    "evin_fiyatini_belirle(yatak_odasi=1,banyo_sayisi=1,bodrum_varmi=False)"
   ]
  }
 ],
 "metadata": {
  "kernelspec": {
   "display_name": "Python 3",
   "language": "python",
   "name": "python3"
  },
  "language_info": {
   "codemirror_mode": {
    "name": "ipython",
    "version": 3
   },
   "file_extension": ".py",
   "mimetype": "text/x-python",
   "name": "python",
   "nbconvert_exporter": "python",
   "pygments_lexer": "ipython3",
   "version": "3.12.1"
  }
 },
 "nbformat": 4,
 "nbformat_minor": 2
}
