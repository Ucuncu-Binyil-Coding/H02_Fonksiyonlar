{
 "cells": [
  {
   "cell_type": "markdown",
   "id": "900d06c4",
   "metadata": {},
   "source": [
    "##### Expected Outputlar hatalı"
   ]
  },
  {
   "cell_type": "code",
   "execution_count": 1,
   "id": "0426c1b9",
   "metadata": {
    "language": "python"
   },
   "outputs": [
    {
     "name": "stdout",
     "output_type": "stream",
     "text": [
      "90\n",
      "120\n",
      "135\n"
     ]
    }
   ],
   "source": [
    "def get_order_cost(meals, drinks):\n",
    "    return 50 + meals * 20 + drinks * 5\n",
    "print(get_order_cost(2, 0))\n",
    "print(get_order_cost(3, 2))\n",
    "print(get_order_cost(4, 1))"
   ]
  },
  {
   "cell_type": "code",
   "execution_count": 2,
   "id": "b8246fdc",
   "metadata": {
    "creation_timestamp": 1738693695801,
    "language": "python",
    "last_modified": 1738693695801
   },
   "outputs": [
    {
     "name": "stdout",
     "output_type": "stream",
     "text": [
      "90\n",
      "120\n",
      "135\n"
     ]
    }
   ],
   "source": [
    "def get_order_cost(meals, drinks):\n",
    "    \"\"\"\n",
    "    Calculate the total cost of an order based on the number of meals and drinks ordered.\n",
    "    \n",
    "    Args:\n",
    "        meals (int): The number of meals ordered.\n",
    "        drinks (int): The number of drinks ordered.\n",
    "        \n",
    "    Returns:\n",
    "        int: The total cost of the order in dollars.\n",
    "        \n",
    "    Example:\n",
    "        >>> get_order_cost(2, 0)\n",
    "        100\n",
    "        >>> get_order_cost(3, 2)\n",
    "        165\n",
    "        >>> get_order_cost(4, 1)\n",
    "        215\n",
    "    \"\"\"\n",
    "    # Base cost for the order (in dollars)\n",
    "    base_cost = 50\n",
    "    \n",
    "    # Cost per meal (in dollars)\n",
    "    meal_cost_per_item = 20\n",
    "    \n",
    "    # Cost per drink (in dollars)\n",
    "    drink_cost_per_item = 5\n",
    "    \n",
    "    # Calculate total cost by adding base cost, meals cost, and drinks cost\n",
    "    total_cost = base_cost + (meals * meal_cost_per_item) + (drinks * drink_cost_per_item)\n",
    "    \n",
    "    return total_cost\n",
    "\n",
    "# Test the function with provided examples\n",
    "print(get_order_cost(2, 0))  # Expected output: 100\n",
    "print(get_order_cost(3, 2))  # Expected output: 165\n",
    "print(get_order_cost(4, 1))  # Expected output: 215\n"
   ]
  },
  {
   "cell_type": "code",
   "execution_count": 3,
   "id": "7912868d",
   "metadata": {
    "language": "python"
   },
   "outputs": [
    {
     "name": "stdout",
     "output_type": "stream",
     "text": [
      "850\n",
      "1400\n"
     ]
    }
   ],
   "source": [
    "def get_rental_cost(days, kilometers):\n",
    "    return 100 + days * 200 + kilometers * 1\n",
    "print(get_rental_cost(3, 150))\n",
    "print(get_rental_cost(5, 300))"
   ]
  },
  {
   "cell_type": "code",
   "execution_count": 4,
   "id": "54273cc7",
   "metadata": {
    "creation_timestamp": 1738693695801,
    "language": "python",
    "last_modified": 1738693695801
   },
   "outputs": [
    {
     "name": "stdout",
     "output_type": "stream",
     "text": [
      "850\n",
      "1400\n"
     ]
    }
   ],
   "source": [
    "def get_rental_cost(days, kilometers):\n",
    "    \"\"\"\n",
    "    Calculate the total rental cost based on days and kilometers driven.\n",
    "    \n",
    "    The calculation is as follows:\n",
    "    - A base fee of 100 units.\n",
    "    - An additional fee of 200 units per day.\n",
    "    - An additional fee of 1 unit per kilometer driven.\n",
    "\n",
    "    Args:\n",
    "        days (int): The number of days the vehicle was rented.\n",
    "        kilometers (int): The total kilometers driven during the rental period.\n",
    "\n",
    "    Returns:\n",
    "        int: The total rental cost in the same units as the fees.\n",
    "    \"\"\"\n",
    "    # Calculate base fee\n",
    "    total_cost = 100\n",
    "    \n",
    "    # Add daily fee based on the number of days\n",
    "    total_cost += days * 200\n",
    "    \n",
    "    # Add kilometer fee based on the distance driven\n",
    "    total_cost += kilometers * 1\n",
    "    \n",
    "    return total_cost\n",
    "\n",
    "# Example usage:\n",
    "print(get_rental_cost(3, 150))  # Expected output: 750 (100 + 3*200 + 150*1)\n",
    "print(get_rental_cost(5, 300))  # Expected output: 1600 (100 + 5*200 + 300*1)\n"
   ]
  },
  {
   "cell_type": "code",
   "execution_count": 5,
   "id": "f0995977",
   "metadata": {
    "language": "python"
   },
   "outputs": [
    {
     "name": "stdout",
     "output_type": "stream",
     "text": [
      "40\n",
      "140\n",
      "220\n"
     ]
    }
   ],
   "source": [
    "def get_ticket_cost(tickets, students):\n",
    "    return tickets * 50 - students * 10\n",
    "print(get_ticket_cost(1, 1))\n",
    "print(get_ticket_cost(3, 1))\n",
    "print(get_ticket_cost(5, 3))"
   ]
  },
  {
   "cell_type": "code",
   "execution_count": 6,
   "id": "5c4b1356",
   "metadata": {
    "creation_timestamp": 1738693695801,
    "language": "python",
    "last_modified": 1738693695801
   },
   "outputs": [
    {
     "name": "stdout",
     "output_type": "stream",
     "text": [
      "40\n",
      "140\n",
      "220\n"
     ]
    }
   ],
   "source": [
    "def get_ticket_cost(tickets, students):\n",
    "    \"\"\"\n",
    "    Calculate the total cost of tickets after applying a student discount.\n",
    "    \n",
    "    The function computes the total cost by multiplying the number of 'tickets'\n",
    "    by 50 (the base ticket price) and then subtracting a discount for each\n",
    "    'student' present. Each student gets a discount of $10.\n",
    "    \n",
    "    Args:\n",
    "        tickets (int): The number of tickets being purchased.\n",
    "        students (int): The number of students accompanying the purchaser.\n",
    "        \n",
    "    Returns:\n",
    "        int: The total cost after applying the student discount.\n",
    "    \"\"\"\n",
    "    # Calculate the base cost by multiplying the number of tickets by 50\n",
    "    base_cost = tickets * 50\n",
    "    \n",
    "    # Subtract a discount for each student present\n",
    "    discounted_cost = base_cost - students * 10\n",
    "    \n",
    "    return discounted_cost\n",
    "\n",
    "# Example usage:\n",
    "print(get_ticket_cost(1, 1))  # Expected output: 40 (50 - 10)\n",
    "print(get_ticket_cost(3, 1))  # Expected output: 140 (150 - 10)\n",
    "print(get_ticket_cost(5, 3))  # Expected output: 220 (250 - 30)\n"
   ]
  },
  {
   "cell_type": "code",
   "execution_count": 7,
   "id": "52138458",
   "metadata": {
    "language": "python"
   },
   "outputs": [
    {
     "name": "stdout",
     "output_type": "stream",
     "text": [
      "4600\n",
      "4900\n"
     ]
    }
   ],
   "source": [
    "def calculate_trip_cost(flights, nights, guide_days):\n",
    "    return 500 + flights * 1000 + nights * 300 + guide_days * 200\n",
    "print(calculate_trip_cost(2, 5, 3))\n",
    "print(calculate_trip_cost(3, 4, 1))"
   ]
  },
  {
   "cell_type": "code",
   "execution_count": 8,
   "id": "9ec63abd",
   "metadata": {
    "creation_timestamp": 1738693695801,
    "language": "python",
    "last_modified": 1738693695801
   },
   "outputs": [
    {
     "name": "stdout",
     "output_type": "stream",
     "text": [
      "4600\n",
      "4900\n"
     ]
    }
   ],
   "source": [
    "def calculate_trip_cost(flights, nights, guide_days):\n",
    "    \"\"\"\n",
    "    Calculate the total cost of a trip based on the number of flights,\n",
    "    nights, and days a guide is needed.\n",
    "\n",
    "    Args:\n",
    "        flights (int): The number of round-trip flights included in the trip.\n",
    "        nights (int): The number of nights accommodation will be provided for.\n",
    "        guide_days (int): The number of days a guide will accompany the group.\n",
    "\n",
    "    Returns:\n",
    "        int: The total cost of the trip, calculated as follows:\n",
    "             - A fixed base cost of 500\n",
    "             - Add 1000 per flight\n",
    "             - Add 300 for each night of accommodation\n",
    "             - Add 200 for each day a guide is needed\n",
    "\n",
    "    Example:\n",
    "        >>> calculate_trip_cost(2, 5, 3)\n",
    "        4600\n",
    "        >>> calculate_trip_cost(3, 4, 1)\n",
    "        4200\n",
    "    \"\"\"\n",
    "    # Base cost of the trip\n",
    "    total_cost = 500\n",
    "    \n",
    "    # Add cost for flights\n",
    "    total_cost += flights * 1000\n",
    "    \n",
    "    # Add cost for nights\n",
    "    total_cost += nights * 300\n",
    "    \n",
    "    # Add cost for guide days\n",
    "    total_cost += guide_days * 200\n",
    "    \n",
    "    return total_cost\n",
    "\n",
    "# Example usage:\n",
    "print(calculate_trip_cost(2, 5, 3))  # Expected output: 4600\n",
    "print(calculate_trip_cost(3, 4, 1))  # Expected output: 4200\n"
   ]
  },
  {
   "cell_type": "code",
   "execution_count": 9,
   "id": "5e6ae97d",
   "metadata": {
    "language": "python"
   },
   "outputs": [
    {
     "name": "stdout",
     "output_type": "stream",
     "text": [
      "12000\n",
      "10500\n",
      "11500\n"
     ]
    }
   ],
   "source": [
    "def calculate_project_cost(developers, days, features):\n",
    "    return 1000 + developers * 500 * days + features * 200\n",
    "print(calculate_project_cost(2, 10, 5))\n",
    "print(calculate_project_cost(1, 15, 10))\n",
    "print(calculate_project_cost(3, 7, 0))"
   ]
  },
  {
   "cell_type": "code",
   "execution_count": 10,
   "id": "199312b5",
   "metadata": {
    "creation_timestamp": 1738693695801,
    "language": "python",
    "last_modified": 1738693695801
   },
   "outputs": [
    {
     "name": "stdout",
     "output_type": "stream",
     "text": [
      "12000\n",
      "10500\n",
      "11500\n"
     ]
    }
   ],
   "source": [
    "def calculate_project_cost(developers, days, features):\n",
    "    \"\"\"\n",
    "    Calculate the total cost of a software project based on the number of developers,\n",
    "    the number of days spent, and the number of new features implemented.\n",
    "\n",
    "    Args:\n",
    "        developers (int): The number of developers working on the project.\n",
    "        days (int): The number of days spent on the project.\n",
    "        features (int): The number of new features implemented in the project.\n",
    "\n",
    "    Returns:\n",
    "        int: The total cost of the project in dollars.\n",
    "\n",
    "    Explanation:\n",
    "        - A base cost of $1000 is added to cover fixed overhead costs.\n",
    "        - Each developer contributes an additional $500 per day, so developers * 500 * days are added.\n",
    "        - Each new feature implemented incurs a cost of $200, so features * 200 are added.\n",
    "\n",
    "    Example:\n",
    "        >>> calculate_project_cost(2, 10, 5)\n",
    "        16000\n",
    "        >>> calculate_project_cost(1, 15, 10)\n",
    "        8000\n",
    "        >>> calculate_project_cost(3, 7, 0)\n",
    "        4700\n",
    "    \"\"\"\n",
    "    return 1000 + developers * 500 * days + features * 200\n",
    "\n",
    "# Example usage:\n",
    "print(calculate_project_cost(2, 10, 5))  # Output: 16000\n",
    "print(calculate_project_cost(1, 15, 10)) # Output: 8000\n",
    "print(calculate_project_cost(3, 7, 0))   # Output: 4700\n"
   ]
  }
 ],
 "metadata": {
  "kernelspec": {
   "display_name": "sanalortam",
   "language": "python",
   "name": "python3"
  },
  "language_info": {
   "codemirror_mode": {
    "name": "ipython",
    "version": 3
   },
   "file_extension": ".py",
   "mimetype": "text/x-python",
   "name": "python",
   "nbconvert_exporter": "python",
   "pygments_lexer": "ipython3",
   "version": "3.12.1"
  }
 },
 "nbformat": 4,
 "nbformat_minor": 5
}
