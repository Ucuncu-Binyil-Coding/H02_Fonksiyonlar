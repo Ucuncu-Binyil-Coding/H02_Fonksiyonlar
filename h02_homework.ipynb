{
 "cells": [
  {
   "cell_type": "markdown",
   "id": "e69504c3-1d64-4385-bc2f-195bf3bb1098",
   "metadata": {},
   "source": [
    "# SORU1"
   ]
  },
  {
   "cell_type": "markdown",
   "id": "3ba31f03-10be-4956-b108-58af2a85b387",
   "metadata": {},
   "source": [
    "Senaryo: Bir restoranın yemek siparişi maliyeti hesaplama\n",
    "\n",
    "Kurallar:\n",
    "\n",
    "0 adet yemek için temel maliyet 50 TL (servis ücreti)\n",
    "\n",
    "Her yemek maliyete 20 TL ekler.\n",
    "\n",
    "Her içecek maliyete 5 TL ekler.\n",
    "\n",
    "1. Soru: get_order_cost() fonksiyonunu yazın. Bu fonksiyonun iki parametresi olacak: meals (yemek sayısı) ve drinks (içecek sayısı). Bu fonksiyon toplam maliyeti döndürecek.\n",
    "\n",
    "        * 2 adet yemek ve 0 adet içecek için toplam maliyet nedir?\n",
    "   \n",
    "        * 3 adet yemek ve 2 adet içecek için toplam maliyet nedir?\n",
    "   \n",
    "        * 4 adet yemek ve 1 adet içecek için toplam maliyet nedir?"
   ]
  },
  {
   "cell_type": "code",
   "execution_count": 3,
   "id": "bef12954-1f15-446b-ac10-5ef0d5c0b3c5",
   "metadata": {},
   "outputs": [
    {
     "name": "stdout",
     "output_type": "stream",
     "text": [
      "90\n",
      "120\n",
      "135\n"
     ]
    }
   ],
   "source": [
    "def get_order_cost(meals:int=0,drinks:int=0) -> float:\n",
    "    return 50 + (meals * 20) + (drinks * 5)\n",
    "\n",
    "print(get_order_cost(2))\n",
    "print(get_order_cost(3,2))\n",
    "print(get_order_cost(4,1))"
   ]
  },
  {
   "cell_type": "markdown",
   "id": "71029096-ba68-45bf-aedb-b13dead07701",
   "metadata": {},
   "source": [
    "# SORU2"
   ]
  },
  {
   "cell_type": "markdown",
   "id": "1f982af9-ca24-48e2-9971-8207ff5eaeb4",
   "metadata": {},
   "source": [
    "Senaryo: Bir aracın kiralama maliyeti hesaplama\n",
    "\n",
    "Kurallar:\n",
    "\n",
    "0 gün kiralama için temel maliyet 100 TL (sabit ücret)\n",
    "\n",
    "Her gün için 200 TL ekler.\n",
    "\n",
    "Her kilometre başına 1 TL ekler.\n",
    "\n",
    "1. Soru: get_rental_cost() fonksiyonunu yazın. Bu fonksiyonun iki parametresi olacak: days (gün sayısı) ve kilometers (kilometre sayısı). Bu \n",
    "\n",
    "fonksiyon toplam maliyeti döndürecek.\n",
    "\n",
    "        * 3 gün ve 150 kilometre için toplam maliyet nedir?\n",
    "\n",
    "        * 5 gün ve 300 kilometre için toplam maliyet nedir?"
   ]
  },
  {
   "cell_type": "code",
   "execution_count": 4,
   "id": "64ae0bdb-b12e-4764-ae48-e7c80f120a45",
   "metadata": {},
   "outputs": [
    {
     "name": "stdout",
     "output_type": "stream",
     "text": [
      "850\n",
      "1400\n"
     ]
    }
   ],
   "source": [
    "def get_rental_cost(days:int,kilometers:int) -> float: # kilometre float olarbilir mi?\n",
    "    return 100 + (days * 200) + (kilometers * 1)\n",
    "\n",
    "print(get_rental_cost(3,150))\n",
    "print(get_rental_cost(5,300))"
   ]
  },
  {
   "cell_type": "markdown",
   "id": "c02432ed-6361-4f2d-985c-52cb5f5ff4d2",
   "metadata": {},
   "source": [
    "# SORU3"
   ]
  },
  {
   "cell_type": "markdown",
   "id": "ee79f406-5fc3-4f5e-8c02-05addfdb10f9",
   "metadata": {},
   "source": [
    "Senaryo: Bir sinema bileti maliyeti hesaplama\n",
    "\n",
    "Kurallar:\n",
    "\n",
    "0 bilet için maliyet 0 TL\n",
    "\n",
    "Her bilet için 50 TL ekler.\n",
    "\n",
    "Öğrenciler için her bilette 10 TL indirim yapılır.\n",
    "\n",
    "1. Soru: get_ticket_cost() fonksiyonunu yazın. Bu fonksiyonun iki parametresi olacak: tickets (bilet sayısı) ve students (öğrenci bilet \n",
    "\n",
    "sayısı). Bu fonksiyon toplam maliyeti döndürecek.\n",
    "\n",
    "        * 1 bilet ve 1 öğrenci bileti için toplam maliyet nedir?\n",
    "\n",
    "        * 3 bilet ve 1 öğrenci bileti için toplam maliyet nedir?\n",
    "\n",
    "        * 5 bilet ve 3 öğrenci bileti için toplam maliyet nedir?"
   ]
  },
  {
   "cell_type": "code",
   "execution_count": 9,
   "id": "8cd9722d-2c6d-4953-9886-b02efe3a1c7b",
   "metadata": {},
   "outputs": [
    {
     "name": "stdout",
     "output_type": "stream",
     "text": [
      "60\n",
      "160\n",
      "280\n"
     ]
    }
   ],
   "source": [
    "def get_ticket_cost(tickets:int,students:int):\n",
    "    return 0 + (tickets * 50) + (students * 10)\n",
    "\n",
    "print(get_ticket_cost(1,1))\n",
    "print(get_ticket_cost(3,1))\n",
    "print(get_ticket_cost(5,3))"
   ]
  },
  {
   "cell_type": "markdown",
   "id": "4673b33b-a919-49ad-ab01-d824c9f81b8c",
   "metadata": {},
   "source": [
    "# SORU4"
   ]
  },
  {
   "cell_type": "markdown",
   "id": "070c4465-a23a-40ef-b1ba-3fe47c9f0b59",
   "metadata": {},
   "source": [
    "Senaryo: Bir seyahat planının maliyeti hesaplama\n",
    "\n",
    "Kurallar:\n",
    "\n",
    "Temel maliyet: 500 TL (organize ücret).\n",
    "\n",
    "Uçuş maliyeti: her uçuş için 1000 TL.\n",
    "\n",
    "Konaklama maliyeti: her gece için 300 TL.\n",
    "\n",
    "Tur rehberi maliyeti: günlük 200 TL.\n",
    "\n",
    "1. Soru: calculate_trip_cost() fonksiyonunu yazın. Bu fonksiyon üç parametre alacak: flights (uçuş sayısı), nights (konaklama gecesi sayısı) \n",
    "\n",
    "ve guide_days (tur rehberi gün sayısı). Bu fonksiyon toplam maliyeti döndürecek.\n",
    "\n",
    "        * 2 uçuş, 5 gece konaklama ve 3 gün tur rehberi için toplam maliyet nedir?\n",
    "\n",
    "        * 3 uçuş, 4 gece konaklama ve 1 gün tur rehberi için toplam maliyet nedir?"
   ]
  },
  {
   "cell_type": "code",
   "execution_count": 11,
   "id": "ae9244ad-a9dc-42ae-9d17-2083771d9474",
   "metadata": {},
   "outputs": [
    {
     "name": "stdout",
     "output_type": "stream",
     "text": [
      "4200\n",
      "4500\n"
     ]
    }
   ],
   "source": [
    "def calculate_trip_cost(flights:int,nights:int,guide_days:int) -> float: # kilometre float olarbilir mi?\n",
    "    return 500 + (flights * 1000) + (nights * 300) + (guide_days * 200)\n",
    "\n",
    "print(calculate_trip_cost(2,5,3))\n",
    "print(calculate_trip_cost(3,4,1))"
   ]
  },
  {
   "cell_type": "markdown",
   "id": "423420d4-b887-4383-83d4-313f5697b38f",
   "metadata": {},
   "source": [
    "# SORU5"
   ]
  },
  {
   "cell_type": "markdown",
   "id": "049a7bfe-84b3-4a91-aec3-0ce8e535f617",
   "metadata": {},
   "source": [
    "Senaryo: Bir yazılım geliştirme projesinin maliyeti hesaplama\n",
    "\n",
    "Kurallar:\n",
    "\n",
    "Temel maliyet: 1000 TL (başlangıç ücreti).\n",
    "\n",
    "Geliştirici maliyeti: her geliştirici için günlük 500 TL.\n",
    "\n",
    "Proje süresi: her gün için toplam maliyet hesaplanır.\n",
    "\n",
    "Her ek özellik için 200 TL ekler.\n",
    "\n",
    "1. Soru: calculate_project_cost() fonksiyonunu yazın. Bu fonksiyon üç parametre alacak: developers (geliştirici sayısı), days (proje süresi \n",
    "\n",
    "gün olarak) ve features (ek özellik sayısı). Bu fonksiyon toplam maliyeti döndürecek.\n",
    "\n",
    "        * 2 geliştirici, 10 gün ve 5 ek özellik için toplam maliyet nedir?\n",
    "\n",
    "        * 1 geliştirici, 15 gün ve 10 ek özellik için toplam maliyet nedir?\n",
    "\n",
    "        * 3 geliştirici, 7 gün ve 0 ek özellik için toplam maliyet nedir?"
   ]
  },
  {
   "cell_type": "code",
   "execution_count": 13,
   "id": "ac9638f6-192b-48cc-a315-fa24ab4ecc12",
   "metadata": {},
   "outputs": [
    {
     "name": "stdout",
     "output_type": "stream",
     "text": [
      "12000\n",
      "10500\n",
      "11500\n"
     ]
    }
   ],
   "source": [
    "def calculate_project_cost(developers:int,days:int,features:int) -> float:\n",
    "    return 1000 + (developers * days * 500) + (features * 200)\n",
    "\n",
    "print(calculate_project_cost(2,10,5))\n",
    "print(calculate_project_cost(1,15,10))\n",
    "print(calculate_project_cost(3,7,0))"
   ]
  }
 ],
 "metadata": {
  "kernelspec": {
   "display_name": "text_generation",
   "language": "python",
   "name": "python3"
  },
  "language_info": {
   "codemirror_mode": {
    "name": "ipython",
    "version": 3
   },
   "file_extension": ".py",
   "mimetype": "text/x-python",
   "name": "python",
   "nbconvert_exporter": "python",
   "pygments_lexer": "ipython3",
   "version": "3.11.2"
  }
 },
 "nbformat": 4,
 "nbformat_minor": 5
}
